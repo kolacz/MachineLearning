{
 "cells": [
  {
   "cell_type": "code",
   "execution_count": 125,
   "metadata": {},
   "outputs": [],
   "source": [
    "import numpy as np\n",
    "import json"
   ]
  },
  {
   "cell_type": "code",
   "execution_count": 126,
   "metadata": {},
   "outputs": [
    {
     "data": {
      "text/plain": [
       "{'world': {'size': {'N': 4, 'M': 3},\n",
       "  'states': {'S': [1, 1], 'T': [[4, 2], [4, 3]], 'F': [[2, 2]], 'B': []}},\n",
       " 'transition_rates': {'p1': 0.8, 'p2': 0.1, 'p3': 0.1},\n",
       " 'reward_function': {'r': -0.04, 'r_T': [-1.0, 1.0], 'r_B': []},\n",
       " 'gamma': 1.0}"
      ]
     },
     "execution_count": 126,
     "metadata": {},
     "output_type": "execute_result"
    }
   ],
   "source": [
    "with open(\"input.json\", \"r\") as read_file:\n",
    "    data = json.load(read_file)\n",
    "data"
   ]
  },
  {
   "cell_type": "code",
   "execution_count": 127,
   "metadata": {},
   "outputs": [],
   "source": [
    "class MarkovDecisionProcess:\n",
    "    def __init__(self, *, N, M, S, T, F, B, p1, p2, p3, r, r_T, r_B, gamma):\n",
    "        self.N, self.M = N, M\n",
    "        self.S = S\n",
    "        self.T = self.lists_to_tuples(T)\n",
    "        self.F = self.lists_to_tuples(F)\n",
    "        self.B = self.lists_to_tuples(B)\n",
    "        self.p1, self.p2, self.p3 = p1, p2, p3\n",
    "        self.r, self.r_T, self.r_B = r, r_T, r_B\n",
    "        self.gamma = gamma\n",
    "        \n",
    "    def lists_to_tuples(self, I):\n",
    "        return [(a, b) for a, b in I]\n",
    "\n",
    "mdp = MarkovDecisionProcess(**data['world']['size'],\n",
    "                            **data['world']['states'],\n",
    "                            **data['transition_rates'],\n",
    "                            **data['reward_function'],\n",
    "                            gamma=data['gamma'])"
   ]
  },
  {
   "cell_type": "code",
   "execution_count": 128,
   "metadata": {},
   "outputs": [],
   "source": [
    "states = {(x,y) for x in range(1, mdp.N + 1) \n",
    "                for y in range(1, mdp.M + 1) if (x, y) not in mdp.F}\n",
    "\n",
    "rewards = {(x, y): mdp.r for (x, y) in states}\n",
    "rewards.update({(x, y): terminal_r for (x, y), terminal_r in zip(mdp.T, mdp.r_T)})\n",
    "rewards.update({(x, y):    bonus_r for (x, y), bonus_r    in zip(mdp.B, mdp.r_B)})"
   ]
  },
  {
   "cell_type": "code",
   "execution_count": 129,
   "metadata": {},
   "outputs": [],
   "source": [
    "def invalid_state(x, y):\n",
    "    out_of_world = x < 1 or x > mdp.N or y < 1 or y > mdp.M\n",
    "    return (x, y) in mdp.F or out_of_world\n",
    "\n",
    "def generate_transitions(states):\n",
    "    probabilities = [mdp.p1, mdp.p2, mdp.p3, 1 - (mdp.p1 + mdp.p2 + mdp.p3)]\n",
    "    transitions = dict()\n",
    "    for x, y in states:\n",
    "        src_state = (x, y)\n",
    "        for move in ['U', 'L', 'R', 'D']:\n",
    "            if move == 'U':\n",
    "                destination = (x, y + 1)\n",
    "                left = (x - 1, y)\n",
    "                right = (x + 1, y)\n",
    "                opposite = (x, y - 1)\n",
    "\n",
    "            if move == 'L':\n",
    "                destination = (x - 1, y)\n",
    "                left = (x, y - 1)\n",
    "                right = (x, y + 1)\n",
    "                opposite = (x + 1, y)\n",
    "\n",
    "            if move == 'D':\n",
    "                destination = (x, y - 1)\n",
    "                left = (x + 1, y)\n",
    "                right = (x - 1, y)\n",
    "                opposite = (x, y + 1)\n",
    "\n",
    "            if move == 'R':\n",
    "                destination = (x + 1, y)\n",
    "                left = (x, y + 1)\n",
    "                right = (x, y - 1)\n",
    "                opposite = (x - 1, y)\n",
    "\n",
    "            for dst_state, transition_rate in zip([destination, left, right, opposite], probabilities):\n",
    "                if invalid_state(*dst_state):\n",
    "                    dst_state = x, y\n",
    "                \n",
    "                if src_state in transitions:\n",
    "                    if move in transitions[src_state]:\n",
    "                        transitions[src_state][move].append((dst_state, transition_rate))\n",
    "                    else:\n",
    "                        transitions[src_state][move] = [(dst_state, transition_rate)]\n",
    "                else:\n",
    "                    transitions[src_state] = {move: [(dst_state, transition_rate)]}\n",
    "    return transitions\n",
    "\n",
    "transitions = generate_transitions(states)\n",
    "transitions.update({(x, y): {'END': [((x, y), 0)]} for x, y in mdp.T})"
   ]
  },
  {
   "cell_type": "code",
   "execution_count": 134,
   "metadata": {},
   "outputs": [
    {
     "name": "stdout",
     "output_type": "stream",
     "text": [
      "Liczba iteracji:  23\n"
     ]
    }
   ],
   "source": [
    "class ValueIteration:\n",
    "    def __init__(self, states, rewards, transitions, stop_cond=0.0001):\n",
    "        self.states = states\n",
    "        self.rewards = rewards\n",
    "        self.transitions = transitions\n",
    "        self.stop_cond = stop_cond\n",
    "        self.t = 0  # liczba iteracji\n",
    "        self.converged = False\n",
    "        \n",
    "    def R(self, state):\n",
    "        return self.rewards[state]\n",
    "    \n",
    "    def T(self, state, action):\n",
    "        return self.transitions[state][action]\n",
    "    \n",
    "    def actions(self, state):\n",
    "        return self.transitions[state].keys()\n",
    "        \n",
    "    def iterate(self):\n",
    "        U1 = {s: 0 for s in states}\n",
    "        while not self.converged:\n",
    "            self.converged = True\n",
    "            self.t += 1\n",
    "            U = U1.copy()\n",
    "            delta = 0\n",
    "            for s in self.states:\n",
    "                U1[s] = self.R(s) + mdp.gamma * max([sum([p * U[s1] for (s1, p) in self.T(s, a)]) \n",
    "                                                     for a in self.actions(s)])\n",
    "                delta = max(delta, abs(U1[s] - U[s]))\n",
    "                \n",
    "            if delta >= self.stop_cond:\n",
    "                self.converged = False\n",
    "        return U\n",
    "    \n",
    "    def best_policy(self, U):\n",
    "        pi = {}\n",
    "        for s in self.states:\n",
    "            pi[s] = max(self.actions(s), key=lambda a: self.expected_utility(a, s, U))\n",
    "        return pi\n",
    "            \n",
    "    def expected_utility(self, a, s, U):\n",
    "        return sum([p * U[s1] for (s1, p) in self.T(s, a)])\n",
    "\n",
    "vi = ValueIteration(states, rewards, transitions)\n",
    "u = vi.iterate()\n",
    "print(\"Liczba iteracji: \", vi.t)\n",
    "pi = vi.best_policy(u)"
   ]
  },
  {
   "cell_type": "code",
   "execution_count": 135,
   "metadata": {},
   "outputs": [
    {
     "name": "stdout",
     "output_type": "stream",
     "text": [
      "0.8116 0.8678 0.9178 1.0000 \n",
      "0.7616 0.0000 0.6603 -1.0000 \n",
      "0.7053 0.6553 0.6113 0.3878 \n",
      "\n"
     ]
    }
   ],
   "source": [
    "for j in reversed(range(1, mdp.M + 1)):\n",
    "    for i in range(1, mdp.N + 1):\n",
    "        print(\"{:.4f}\".format(u.get((i, j), 0.)), end=' ');\n",
    "    print(end='\\n')\n",
    "\n",
    "print()"
   ]
  },
  {
   "cell_type": "code",
   "execution_count": 136,
   "metadata": {
    "scrolled": false
   },
   "outputs": [
    {
     "name": "stdout",
     "output_type": "stream",
     "text": [
      "> > >   \n",
      "^   ^   \n",
      "^ < < < \n",
      "\n"
     ]
    }
   ],
   "source": [
    "arrows = {'U': '^', 'L': '<', 'R': '>', 'D': 'v'}\n",
    "\n",
    "for j in reversed(range(1, mdp.M + 1)):\n",
    "    for i in range(1, mdp.N + 1):\n",
    "        print(\"{}\".format(arrows.get(pi.get((i, j), ' '), ' ')), end=' ');\n",
    "    print(end='\\n')\n",
    "\n",
    "print()"
   ]
  },
  {
   "cell_type": "code",
   "execution_count": null,
   "metadata": {},
   "outputs": [],
   "source": []
  }
 ],
 "metadata": {
  "kernelspec": {
   "display_name": "Python 3",
   "language": "python",
   "name": "python3"
  },
  "language_info": {
   "codemirror_mode": {
    "name": "ipython",
    "version": 3
   },
   "file_extension": ".py",
   "mimetype": "text/x-python",
   "name": "python",
   "nbconvert_exporter": "python",
   "pygments_lexer": "ipython3",
   "version": "3.7.2"
  }
 },
 "nbformat": 4,
 "nbformat_minor": 2
}
