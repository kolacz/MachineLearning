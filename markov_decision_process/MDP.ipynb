{
 "cells": [
  {
   "cell_type": "code",
   "execution_count": 1,
   "metadata": {},
   "outputs": [],
   "source": [
    "import numpy as np"
   ]
  },
  {
   "cell_type": "code",
   "execution_count": null,
   "metadata": {},
   "outputs": [],
   "source": [
    "with open(\"dane.txt\") as f:\n",
    "    f.readlines()"
   ]
  },
  {
   "cell_type": "code",
   "execution_count": 22,
   "metadata": {},
   "outputs": [],
   "source": [
    "class State:\n",
    "    def __init__(self, x, y, kind=\"N\", reward=1.):\n",
    "        self.x, self.y = x, y\n",
    "        self.kind = kind  # \"S\", \"T\", \"F\", \"B\"\n",
    "        self.reward = reward\n",
    "        self.usability = 1.\n",
    "        self.policy = \"\"\n",
    "    \n",
    "    def is_valid(self, x, y):\n",
    "        return 1 <= x <= N and 1 <= y <= M\n",
    "        \n",
    "    def neighbourhood(self):\n",
    "        neigh_coordinates = [(self.x + i, self.y + j)\n",
    "                             for i in [-1, 0, 1] for j in [-1, 0, 1]\n",
    "                             if (i != 0 or j != 0)]\n",
    "        return [State(*c) for c in neigh_coordinates\n",
    "                if self.is_valid(*c) and c not in Fs]\n",
    "\n",
    "    def move(self, d):\n",
    "        if d == \"U\":\n",
    "            pass\n",
    "        \n",
    "        if d == \"D\":\n",
    "            pass\n",
    "        \n",
    "        if d == \"L\":\n",
    "            pass\n",
    "        \n",
    "        if d == \"R\":\n",
    "            pass\n",
    "\n",
    "\n",
    "class World:\n",
    "    def __init__(self, S, Ts, Fs):  # S = (1,1), Ts = [(1,4), (5,2)], Fs = [(4,2)]\n",
    "        states = [[State(x, y) for y in range(1, M + 1)] for x in range(1, N + 1)]\n",
    "        self.grid = np.array(states)\n",
    "    \n",
    "    def print_usability(self):\n",
    "        pass\n",
    "    \n",
    "    def print_policy(self):\n",
    "        pass\n",
    "\n",
    "    \n",
    "class MDP:\n",
    "    def __init__(self, N, M, p1, p2, p3, r, disc):\n",
    "        self.N, self.M = N, M\n",
    "        self.p1, self.p2, self.p3 = p1, p2, p3\n",
    "        self.r  = r\n",
    "        self.disc = dics  # discounting"
   ]
  },
  {
   "cell_type": "code",
   "execution_count": 28,
   "metadata": {},
   "outputs": [
    {
     "data": {
      "text/plain": [
       "(10, 20)"
      ]
     },
     "execution_count": 28,
     "metadata": {},
     "output_type": "execute_result"
    }
   ],
   "source": []
  },
  {
   "cell_type": "code",
   "execution_count": 12,
   "metadata": {},
   "outputs": [],
   "source": []
  },
  {
   "cell_type": "code",
   "execution_count": null,
   "metadata": {},
   "outputs": [],
   "source": []
  },
  {
   "cell_type": "code",
   "execution_count": null,
   "metadata": {},
   "outputs": [],
   "source": []
  },
  {
   "cell_type": "code",
   "execution_count": null,
   "metadata": {},
   "outputs": [],
   "source": []
  }
 ],
 "metadata": {
  "kernelspec": {
   "display_name": "Python 3",
   "language": "python",
   "name": "python3"
  },
  "language_info": {
   "codemirror_mode": {
    "name": "ipython",
    "version": 3
   },
   "file_extension": ".py",
   "mimetype": "text/x-python",
   "name": "python",
   "nbconvert_exporter": "python",
   "pygments_lexer": "ipython3",
   "version": "3.7.2"
  }
 },
 "nbformat": 4,
 "nbformat_minor": 2
}
