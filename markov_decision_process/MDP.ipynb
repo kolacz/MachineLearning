{
 "cells": [
  {
   "cell_type": "code",
   "execution_count": 1,
   "metadata": {},
   "outputs": [],
   "source": [
    "import numpy as np"
   ]
  },
  {
   "cell_type": "code",
   "execution_count": null,
   "metadata": {},
   "outputs": [],
   "source": [
    "class State:\n",
    "    def __init__(self, x, y, kind=\"N\"):\n",
    "        self.x, self.y = x, y\n",
    "        self.kind = kind\n",
    "        self.r\n",
    "        self.usability = \n",
    "    \n",
    "    def is_valid(self):\n",
    "        \n",
    "        \n",
    "    def neighbourhood(self):\n",
    "        return []\n",
    "\n",
    "#     def move(self, d):\n",
    "#         if d == \"U\":\n",
    "#             pass\n",
    "        \n",
    "#         if d == \"D\":\n",
    "#             pass\n",
    "        \n",
    "#         if d == \"L\":\n",
    "#             pass\n",
    "        \n",
    "#         if d == \"R\":\n",
    "#             pass\n",
    "\n",
    "\n",
    "class World(MDP):\n",
    "    def __init__(self, S, Ts, Fs):\n",
    "        pass\n",
    "    \n",
    "    def print_usability(self):\n",
    "        pass\n",
    "    \n",
    "    def print_policy(self):\n",
    "        pass\n",
    "\n",
    "    \n",
    "class MDP:\n",
    "    def __init__(self, N, M, p1, p2, p3, r, disc):\n",
    "        self.N, self.M = N, M\n",
    "        self.p1, self.p2, self.p3 = p1, p2, p3\n",
    "        self.r  = r\n",
    "        self.disc = dics  # discounting\n",
    "        "
   ]
  }
 ],
 "metadata": {
  "kernelspec": {
   "display_name": "Python 3",
   "language": "python",
   "name": "python3"
  },
  "language_info": {
   "codemirror_mode": {
    "name": "ipython",
    "version": 3
   },
   "file_extension": ".py",
   "mimetype": "text/x-python",
   "name": "python",
   "nbconvert_exporter": "python",
   "pygments_lexer": "ipython3",
   "version": "3.7.2"
  }
 },
 "nbformat": 4,
 "nbformat_minor": 2
}
