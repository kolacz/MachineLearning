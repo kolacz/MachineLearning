{
 "cells": [
  {
   "cell_type": "code",
   "execution_count": 2,
   "metadata": {},
   "outputs": [],
   "source": [
    "import numpy as np\n",
    "import json"
   ]
  },
  {
   "cell_type": "code",
   "execution_count": 71,
   "metadata": {},
   "outputs": [
    {
     "data": {
      "text/plain": [
       "{'disc': 1.0,\n",
       " 'reward_function': {'r': 1.0, 'r_B': [], 'r_T': [-1.0, 1.0]},\n",
       " 'transition_rates': {'p1': 0.8, 'p2': 0.1, 'p3': 0.1},\n",
       " 'world': {'size': {'M': 3, 'N': 4},\n",
       "  'states': {'B': [], 'F': [[2, 2]], 'S': [1, 1], 'T': [[4, 2], [4, 3]]}}}"
      ]
     },
     "execution_count": 71,
     "metadata": {},
     "output_type": "execute_result"
    }
   ],
   "source": [
    "with open(\"input.json\", \"r\") as read_file:\n",
    "    data = json.load(read_file)\n",
    "data"
   ]
  },
  {
   "cell_type": "code",
   "execution_count": 72,
   "metadata": {},
   "outputs": [],
   "source": [
    "w = World(**data['world']['size'], **data['world']['states'])"
   ]
  },
  {
   "cell_type": "code",
   "execution_count": 88,
   "metadata": {},
   "outputs": [],
   "source": [
    "class MarkovDecisionProcess:\n",
    "    def __init__(self, *, N, M, S, T, F, B, p1, p2, p3, r, r_T, r_B, disc):\n",
    "        self.N, self.M = N, M\n",
    "        self.S = S\n",
    "        self.T = self.lists_to_tuples(T)\n",
    "        self.F = self.lists_to_tuples(F)\n",
    "        self.B = self.lists_to_tuples(B)\n",
    "        self.p1, self.p2, self.p3 = p1, p2, p3\n",
    "        self.r, self.r_T, self.r_B = r, r_T, r_B\n",
    "        self.disc = disc  # discounting\n",
    "        \n",
    "    def lists_to_tuples(self, I):\n",
    "        return [(a, b) for a, b in I]\n",
    "\n",
    "MDP = MarkovDecisionProcess(**data['world']['size'], \n",
    "                            **data['world']['states'], \n",
    "                            **data['transition_rates'],\n",
    "                            **data['reward_function'],\n",
    "                            disc=data['disc'])"
   ]
  },
  {
   "cell_type": "code",
   "execution_count": 89,
   "metadata": {},
   "outputs": [],
   "source": [
    "class World:\n",
    "    def __init__(self):  # S = (1,1), T = [(1,4), (5,2)], F = [(4,2)], B\n",
    "        self.grid = [[State(x, y) for y in range(1, MDP.M + 1)] for x in range(1, MDP.N + 1)]\n",
    "        \n",
    "        self.get_state(*MDP.S).kind = 'S'\n",
    "        \n",
    "        for t, rt in zip(MDP.T, MDP.r_T):\n",
    "            self.get_state(*t).kind = 'T'\n",
    "            self.get_state(*t).reward = rt\n",
    "        for b, rb in zip(MDP.B, MDP.r_B):\n",
    "            self.get_state(*b).kind = 'B'\n",
    "            self.get_state(*b).reward = rb\n",
    "        for f in MDP.F:\n",
    "            self.get_state(*f).kind = 'F'\n",
    "            \n",
    "    def get_state(self, x, y):\n",
    "        return self.grid[x-1][y-1]\n",
    "        \n",
    "    def print_usability(self):\n",
    "        pass\n",
    "    \n",
    "    def print_policy(self):\n",
    "        pass\n",
    "    \n",
    "    \n",
    "class State:\n",
    "    def __init__(self, x, y, kind=\"N\", reward=MDP.r):\n",
    "        self.x, self.y = x, y\n",
    "        self.kind = kind  # S/T/F/B\n",
    "        self.reward = reward\n",
    "        self.usability = 1.\n",
    "        self.policy = \"\"\n",
    "    \n",
    "    def is_valid(self, x, y):\n",
    "        return 1 <= x <= MDP.N and 1 <= y <= MDP.M\n",
    "        \n",
    "    def neighbours(self):\n",
    "        neigh_coordinates = [(self.x + i, self.y + j)\n",
    "                             for i in [-1, 0, 1] for j in [-1, 0, 1]\n",
    "                             if (i != 0 or j != 0)]\n",
    "        return [c for c in neigh_coordinates\n",
    "                if self.is_valid(*c) and c not in MDP.F]\n",
    "\n",
    "    def move(self, d):\n",
    "        if d == \"U\":\n",
    "            pass\n",
    "        \n",
    "        if d == \"D\":\n",
    "            pass\n",
    "        \n",
    "        if d == \"L\":\n",
    "            pass\n",
    "        \n",
    "        if d == \"R\":\n",
    "            pass"
   ]
  },
  {
   "cell_type": "code",
   "execution_count": 90,
   "metadata": {},
   "outputs": [
    {
     "data": {
      "text/plain": [
       "[(1, 2), (2, 1)]"
      ]
     },
     "execution_count": 90,
     "metadata": {},
     "output_type": "execute_result"
    }
   ],
   "source": [
    "w = World()\n",
    "w.get_state(1,1).neighbours()"
   ]
  },
  {
   "cell_type": "code",
   "execution_count": null,
   "metadata": {},
   "outputs": [],
   "source": []
  },
  {
   "cell_type": "code",
   "execution_count": null,
   "metadata": {},
   "outputs": [],
   "source": []
  },
  {
   "cell_type": "code",
   "execution_count": null,
   "metadata": {},
   "outputs": [],
   "source": []
  }
 ],
 "metadata": {
  "kernelspec": {
   "display_name": "Python 3",
   "language": "python",
   "name": "python3"
  },
  "language_info": {
   "codemirror_mode": {
    "name": "ipython",
    "version": 3
   },
   "file_extension": ".py",
   "mimetype": "text/x-python",
   "name": "python",
   "nbconvert_exporter": "python",
   "pygments_lexer": "ipython3",
   "version": "3.6.7"
  }
 },
 "nbformat": 4,
 "nbformat_minor": 2
}
