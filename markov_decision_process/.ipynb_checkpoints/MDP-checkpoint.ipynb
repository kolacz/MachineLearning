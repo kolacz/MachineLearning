{
 "cells": [
  {
   "cell_type": "code",
   "execution_count": 122,
   "metadata": {},
   "outputs": [],
   "source": [
    "import numpy as np\n",
    "import json"
   ]
  },
  {
   "cell_type": "code",
   "execution_count": 123,
   "metadata": {},
   "outputs": [
    {
     "data": {
      "text/plain": [
       "{'disc': 1.0,\n",
       " 'reward_function': {'r': 0.5, 'r_B': [], 'r_T': [-1.0, 1.0]},\n",
       " 'transition_rates': {'p1': 0.8, 'p2': 0.1, 'p3': 0.1},\n",
       " 'world': {'size': {'M': 3, 'N': 4},\n",
       "  'states': {'B': [], 'F': [[2, 2]], 'S': [1, 1], 'T': [[4, 2], [4, 3]]}}}"
      ]
     },
     "execution_count": 123,
     "metadata": {},
     "output_type": "execute_result"
    }
   ],
   "source": [
    "with open(\"input.json\", \"r\") as read_file:\n",
    "    data = json.load(read_file)\n",
    "data"
   ]
  },
  {
   "cell_type": "code",
   "execution_count": 124,
   "metadata": {},
   "outputs": [],
   "source": [
    "class MarkovDecisionProcess:\n",
    "    def __init__(self, *, N, M, S, T, F, B, p1, p2, p3, r, r_T, r_B, disc):\n",
    "        self.N, self.M = N, M\n",
    "        self.S = S\n",
    "        self.T = self.lists_to_tuples(T)\n",
    "        self.F = self.lists_to_tuples(F)\n",
    "        self.B = self.lists_to_tuples(B)\n",
    "        self.p1, self.p2, self.p3 = p1, p2, p3\n",
    "        self.r, self.r_T, self.r_B = r, r_T, r_B\n",
    "        self.disc = disc  # discounting\n",
    "        assert len(self.T) == len(self.r_T) \n",
    "        assert len(self.B) == len(self.r_B)\n",
    "        \n",
    "    def lists_to_tuples(self, I):\n",
    "        return [(a, b) for a, b in I]\n",
    "\n",
    "\n",
    "MDP = MarkovDecisionProcess(**data['world']['size'],\n",
    "                            **data['world']['states'],\n",
    "                            **data['transition_rates'],\n",
    "                            **data['reward_function'],\n",
    "                            disc=data['disc'])"
   ]
  },
  {
   "cell_type": "code",
   "execution_count": 189,
   "metadata": {},
   "outputs": [],
   "source": [
    "class World:\n",
    "    def __init__(self):  # S = (1,1), T = [(1,4), (5,2)], F = [(4,2)], B\n",
    "        self.grid = [[State(x, y) for y in range(1, MDP.M + 1)] for x in range(1, MDP.N + 1)]\n",
    "        \n",
    "        self.get_state(*MDP.S).kind = 'S'\n",
    "    \n",
    "        for t, rt in zip(MDP.T, MDP.r_T):\n",
    "            self.get_state(*t).kind = 'T'\n",
    "            self.get_state(*t).reward = rt\n",
    "        for b, rb in zip(MDP.B, MDP.r_B):\n",
    "            self.get_state(*b).kind = 'B'\n",
    "            self.get_state(*b).reward = rb\n",
    "        for f in MDP.F:\n",
    "            self.get_state(*f).kind = 'F'\n",
    "            \n",
    "    def get_state(self, x, y):\n",
    "        return self.grid[x-1][y-1]\n",
    "        \n",
    "    def print_utility(self):\n",
    "        pass\n",
    "    \n",
    "    def print_policy(self):\n",
    "        pass\n",
    "    \n",
    "    \n",
    "class State:\n",
    "    def __init__(self, x, y, kind=\"N\", reward=MDP.r):\n",
    "        self.x, self.y = x, y\n",
    "        self.kind = kind  # S/T/F/B\n",
    "        self.reward = reward\n",
    "        self.utility = -0.04\n",
    "        self.policy = \"\"\n",
    "        \n",
    "    def neighbours(self):\n",
    "        neigh_coordinates = [(self.x + i, self.y + j)\n",
    "                             for i in [-1, 0, 1] for j in [-1, 0, 1]\n",
    "                             if (i * j == 0 and i + j != 0)]\n",
    "        return [c for c in neigh_coordinates\n",
    "                if self.is_valid(*c) and c not in MDP.F]\n",
    "\n",
    "    def move(self, d):\n",
    "        p1, p2, p3 = MDP.p1, MDP.p2, MDP.p3\n",
    "        if d == \"U\":\n",
    "            np.random.choice([\"U\", \"L\", \"R\", \"D\"], p=[p1, p2, p3, 1-p1-p2-p3])\n",
    "        \n",
    "        if d == \"D\":\n",
    "            pass\n",
    "        \n",
    "        if d == \"L\":\n",
    "            pass\n",
    "        \n",
    "        if d == \"R\":\n",
    "            pass\n",
    "    \n",
    "    def out_of_world(self, x, y):\n",
    "        return \n",
    "        \n",
    "    def invalid_state(self, x, y):\n",
    "        out_of_world = x < 1 or x > MDP.N or y < 1 or y > MDP.M\n",
    "        return (x, y) in MDP.F or out_of_world\n",
    "        \n",
    "        \n",
    "    def transitions(self):\n",
    "#         neigh_coordinates = [(self.x + i, self.y + j)\n",
    "#                              for i in [-1, 0, 1] for j in [-1, 0, 1]\n",
    "#                              if (i * j == 0 and i + j != 0)]\n",
    "        probabilities = [MDP.p1, MDP.p2, MDP.p3, 1 - MDP.p1 - MDP.p2 - MDP.p3]\n",
    "        neigh_coordinates = [(self.x - 1, self.y), (self.x, self.y + 1),\n",
    "                             (self.x + 1, self.y), (self.x, self.y - 1)]\n",
    "        transitions = []\n",
    "        for move in ['U', 'L', 'R', 'D']:\n",
    "            if move == 'U':\n",
    "                destination = (self.x, self.y + 1)\n",
    "                left = (self.x - 1, self.y)\n",
    "                right = (self.x + 1, self.y)\n",
    "                opposite = (self.x, self.y - 1)\n",
    "            \n",
    "            if move == 'L':\n",
    "                destination = (self.x - 1, self.y)\n",
    "                left = (self.x, self.y - 1)\n",
    "                right = (self.x, self.y + 1)\n",
    "                opposite = (self.x + 1, self.y)\n",
    "                \n",
    "            if move == 'D':\n",
    "                destination = (self.x, self.y - 1)\n",
    "                left = (self.x + 1, self.y)\n",
    "                right = (self.x - 1, self.y)\n",
    "                opposite = (self.x, self.y + 1)\n",
    "            \n",
    "            if move == 'R':\n",
    "                destination = (self.x + 1, self.y)\n",
    "                left = (self.x, self.y + 1)\n",
    "                right = (self.x, self.y - 1)\n",
    "                opposite = (self.x - 1, self.y)\n",
    "                \n",
    "            for coordinates, transition_rate in zip([destination, left, right, opposite], probabilities):\n",
    "                if self.invalid_state(*coordinates):\n",
    "                    coordinates = self.x, self.y\n",
    "                transitions.append((move, coordinates, transition_rate))\n",
    "        return transitions\n",
    "                \n",
    "import copy\n",
    "from itertools import groupby\n",
    "        \n",
    "class ValueIteration:\n",
    "    def __init__(self, stopping_condition=0.0001):\n",
    "        self.stop_cond = stopping_condition\n",
    "        self.t = 0\n",
    "        self.W = World()\n",
    "        self.converged = False\n",
    "        \n",
    "    def iterate(self):\n",
    "        while not self.converged:\n",
    "            self.converged = True\n",
    "            self.t += 1\n",
    "            next_W = copy.deepcopy(self.W)\n",
    "            for x in range(1, MDP.N + 1):\n",
    "                for y in range(1, MDP.M + 1):\n",
    "                    if (x, y) not in MDP.F:\n",
    "                        s = next_W.get_state(x, y)\n",
    "                        prev_utility = s.utility\n",
    "                        max_sum = self.select_action(self.W, s.transitions())\n",
    "                        s.utility = s.reward + MDP.disc * max_sum\n",
    "                        print(s.utility, prev_utility, f\"({x}, {y})\")\n",
    "                        if abs(s.utility - prev_utility) < self.stop_cond:\n",
    "                            self.converged = False\n",
    "            self.W = next_W\n",
    "    \n",
    "    def select_action(self, world, transitions):\n",
    "        sums = []\n",
    "        for move, group in groupby(transitions, lambda x: x[0]):\n",
    "            sum_ = 0\n",
    "            for transition in group:\n",
    "                sum_ += world.get_state(*transition[1]).utility * transition[2]\n",
    "            sums.append((sum_, move))\n",
    "        return max(sums, key=lambda x: x[1])[0]\n",
    "                "
   ]
  },
  {
   "cell_type": "code",
   "execution_count": 190,
   "metadata": {},
   "outputs": [
    {
     "name": "stdout",
     "output_type": "stream",
     "text": [
      "0.45999999999999996 -0.04 (1, 1)\n",
      "0.45999999999999996 -0.04 (1, 2)\n",
      "0.45999999999999996 -0.04 (1, 3)\n",
      "0.45999999999999996 -0.04 (2, 1)\n",
      "0.45999999999999996 -0.04 (2, 3)\n",
      "0.45999999999999996 -0.04 (3, 1)\n",
      "0.45999999999999996 -0.04 (3, 2)\n",
      "0.45999999999999996 -0.04 (3, 3)\n",
      "0.45999999999999996 -0.04 (4, 1)\n",
      "-1.04 -0.04 (4, 2)\n",
      "0.96 -0.04 (4, 3)\n"
     ]
    }
   ],
   "source": [
    "w = World()\n",
    "t = w.get_state(4,3).transitions()\n",
    "vi = ValueIteration()\n",
    "vi.iterate()"
   ]
  },
  {
   "cell_type": "code",
   "execution_count": 132,
   "metadata": {},
   "outputs": [],
   "source": [
    "from itertools import cycle, islice"
   ]
  },
  {
   "cell_type": "code",
   "execution_count": 139,
   "metadata": {},
   "outputs": [],
   "source": [
    "a = [1,2,3,4]\n",
    "ac = cycle(a)"
   ]
  },
  {
   "cell_type": "code",
   "execution_count": 143,
   "metadata": {},
   "outputs": [
    {
     "data": {
      "text/plain": [
       "[2, 3, 4, 1]"
      ]
     },
     "execution_count": 143,
     "metadata": {},
     "output_type": "execute_result"
    }
   ],
   "source": [
    "list(islice(ac, 1, 5))"
   ]
  },
  {
   "cell_type": "code",
   "execution_count": 164,
   "metadata": {},
   "outputs": [
    {
     "data": {
      "text/plain": [
       "-0.04"
      ]
     },
     "execution_count": 164,
     "metadata": {},
     "output_type": "execute_result"
    }
   ],
   "source": [
    "World().get_state(4,3).utility"
   ]
  },
  {
   "cell_type": "code",
   "execution_count": null,
   "metadata": {},
   "outputs": [],
   "source": []
  }
 ],
 "metadata": {
  "kernelspec": {
   "display_name": "Python 3",
   "language": "python",
   "name": "python3"
  },
  "language_info": {
   "codemirror_mode": {
    "name": "ipython",
    "version": 3
   },
   "file_extension": ".py",
   "mimetype": "text/x-python",
   "name": "python",
   "nbconvert_exporter": "python",
   "pygments_lexer": "ipython3",
   "version": "3.6.7"
  }
 },
 "nbformat": 4,
 "nbformat_minor": 2
}
